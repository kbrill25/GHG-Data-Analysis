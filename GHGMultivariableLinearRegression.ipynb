{
 "cells": [
  {
   "cell_type": "code",
   "execution_count": 53,
   "metadata": {},
   "outputs": [],
   "source": [
    "import requests\n",
    "import pandas as pd\n",
    "import pylab as py\n",
    "import numpy as np\n",
    "import matplotlib.pyplot as plt\n",
    "from sklearn import linear_model"
   ]
  },
  {
   "cell_type": "code",
   "execution_count": 54,
   "metadata": {},
   "outputs": [],
   "source": [
    "df = pd.read_excel('data.xlsx', header=2)"
   ]
  },
  {
   "cell_type": "code",
   "execution_count": 55,
   "metadata": {},
   "outputs": [
    {
     "data": {
      "text/html": [
       "<div>\n",
       "<style scoped>\n",
       "    .dataframe tbody tr th:only-of-type {\n",
       "        vertical-align: middle;\n",
       "    }\n",
       "\n",
       "    .dataframe tbody tr th {\n",
       "        vertical-align: top;\n",
       "    }\n",
       "\n",
       "    .dataframe thead th {\n",
       "        text-align: right;\n",
       "    }\n",
       "</style>\n",
       "<table border=\"1\" class=\"dataframe\">\n",
       "  <thead>\n",
       "    <tr style=\"text-align: right;\">\n",
       "      <th></th>\n",
       "      <th>Unnamed: 0</th>\n",
       "      <th>Year</th>\n",
       "      <th>Electricity Generation</th>\n",
       "      <th>Transportation</th>\n",
       "      <th>Industry</th>\n",
       "      <th>Agriculture</th>\n",
       "      <th>Commercial</th>\n",
       "      <th>Residential</th>\n",
       "      <th>U.S. Territories</th>\n",
       "      <th>Total</th>\n",
       "    </tr>\n",
       "  </thead>\n",
       "  <tbody>\n",
       "    <tr>\n",
       "      <td>0</td>\n",
       "      <td>NaN</td>\n",
       "      <td>1990</td>\n",
       "      <td>1875.593659</td>\n",
       "      <td>1527.071188</td>\n",
       "      <td>1628.676867</td>\n",
       "      <td>598.967218</td>\n",
       "      <td>428.668347</td>\n",
       "      <td>344.701666</td>\n",
       "      <td>33.321186</td>\n",
       "      <td>6437.000131</td>\n",
       "    </tr>\n",
       "    <tr>\n",
       "      <td>1</td>\n",
       "      <td>NaN</td>\n",
       "      <td>1991</td>\n",
       "      <td>1871.622530</td>\n",
       "      <td>1480.927212</td>\n",
       "      <td>1602.045952</td>\n",
       "      <td>589.682520</td>\n",
       "      <td>435.610013</td>\n",
       "      <td>354.247606</td>\n",
       "      <td>39.123871</td>\n",
       "      <td>6373.259703</td>\n",
       "    </tr>\n",
       "    <tr>\n",
       "      <td>2</td>\n",
       "      <td>NaN</td>\n",
       "      <td>1992</td>\n",
       "      <td>1886.593971</td>\n",
       "      <td>1540.530936</td>\n",
       "      <td>1633.075916</td>\n",
       "      <td>590.570246</td>\n",
       "      <td>431.178707</td>\n",
       "      <td>360.821161</td>\n",
       "      <td>37.315650</td>\n",
       "      <td>6480.086588</td>\n",
       "    </tr>\n",
       "    <tr>\n",
       "      <td>3</td>\n",
       "      <td>NaN</td>\n",
       "      <td>1993</td>\n",
       "      <td>1962.354970</td>\n",
       "      <td>1577.519112</td>\n",
       "      <td>1602.408186</td>\n",
       "      <td>618.614388</td>\n",
       "      <td>424.627494</td>\n",
       "      <td>372.164956</td>\n",
       "      <td>39.085447</td>\n",
       "      <td>6596.774554</td>\n",
       "    </tr>\n",
       "    <tr>\n",
       "      <td>4</td>\n",
       "      <td>NaN</td>\n",
       "      <td>1994</td>\n",
       "      <td>1987.151999</td>\n",
       "      <td>1632.153745</td>\n",
       "      <td>1628.107251</td>\n",
       "      <td>605.833117</td>\n",
       "      <td>428.065622</td>\n",
       "      <td>362.939297</td>\n",
       "      <td>41.479440</td>\n",
       "      <td>6685.730471</td>\n",
       "    </tr>\n",
       "  </tbody>\n",
       "</table>\n",
       "</div>"
      ],
      "text/plain": [
       "   Unnamed: 0  Year   Electricity Generation  Transportation     Industry  \\\n",
       "0         NaN   1990             1875.593659     1527.071188  1628.676867   \n",
       "1         NaN   1991             1871.622530     1480.927212  1602.045952   \n",
       "2         NaN   1992             1886.593971     1540.530936  1633.075916   \n",
       "3         NaN   1993             1962.354970     1577.519112  1602.408186   \n",
       "4         NaN   1994             1987.151999     1632.153745  1628.107251   \n",
       "\n",
       "   Agriculture  Commercial  Residential  U.S. Territories        Total  \n",
       "0   598.967218  428.668347   344.701666         33.321186  6437.000131  \n",
       "1   589.682520  435.610013   354.247606         39.123871  6373.259703  \n",
       "2   590.570246  431.178707   360.821161         37.315650  6480.086588  \n",
       "3   618.614388  424.627494   372.164956         39.085447  6596.774554  \n",
       "4   605.833117  428.065622   362.939297         41.479440  6685.730471  "
      ]
     },
     "execution_count": 55,
     "metadata": {},
     "output_type": "execute_result"
    }
   ],
   "source": [
    "df.head()"
   ]
  },
  {
   "cell_type": "code",
   "execution_count": 74,
   "metadata": {
    "scrolled": false
   },
   "outputs": [],
   "source": [
    "df = df.drop(columns = ['Unnamed: 0'])"
   ]
  },
  {
   "cell_type": "code",
   "execution_count": 81,
   "metadata": {},
   "outputs": [
    {
     "data": {
      "text/html": [
       "<div>\n",
       "<style scoped>\n",
       "    .dataframe tbody tr th:only-of-type {\n",
       "        vertical-align: middle;\n",
       "    }\n",
       "\n",
       "    .dataframe tbody tr th {\n",
       "        vertical-align: top;\n",
       "    }\n",
       "\n",
       "    .dataframe thead th {\n",
       "        text-align: right;\n",
       "    }\n",
       "</style>\n",
       "<table border=\"1\" class=\"dataframe\">\n",
       "  <thead>\n",
       "    <tr style=\"text-align: right;\">\n",
       "      <th></th>\n",
       "      <th>Year</th>\n",
       "      <th>Electricity Generation</th>\n",
       "      <th>Transportation</th>\n",
       "      <th>Industry</th>\n",
       "      <th>Agriculture</th>\n",
       "      <th>Commercial</th>\n",
       "      <th>Residential</th>\n",
       "      <th>U.S. Territories</th>\n",
       "      <th>Total</th>\n",
       "    </tr>\n",
       "  </thead>\n",
       "  <tbody>\n",
       "    <tr>\n",
       "      <td>1</td>\n",
       "      <td>1991</td>\n",
       "      <td>1871.622530</td>\n",
       "      <td>1480.927212</td>\n",
       "      <td>1602.045952</td>\n",
       "      <td>589.682520</td>\n",
       "      <td>435.610013</td>\n",
       "      <td>354.247606</td>\n",
       "      <td>39.123871</td>\n",
       "      <td>6373.259703</td>\n",
       "    </tr>\n",
       "    <tr>\n",
       "      <td>2</td>\n",
       "      <td>1992</td>\n",
       "      <td>1886.593971</td>\n",
       "      <td>1540.530936</td>\n",
       "      <td>1633.075916</td>\n",
       "      <td>590.570246</td>\n",
       "      <td>431.178707</td>\n",
       "      <td>360.821161</td>\n",
       "      <td>37.315650</td>\n",
       "      <td>6480.086588</td>\n",
       "    </tr>\n",
       "    <tr>\n",
       "      <td>3</td>\n",
       "      <td>1993</td>\n",
       "      <td>1962.354970</td>\n",
       "      <td>1577.519112</td>\n",
       "      <td>1602.408186</td>\n",
       "      <td>618.614388</td>\n",
       "      <td>424.627494</td>\n",
       "      <td>372.164956</td>\n",
       "      <td>39.085447</td>\n",
       "      <td>6596.774554</td>\n",
       "    </tr>\n",
       "    <tr>\n",
       "      <td>4</td>\n",
       "      <td>1994</td>\n",
       "      <td>1987.151999</td>\n",
       "      <td>1632.153745</td>\n",
       "      <td>1628.107251</td>\n",
       "      <td>605.833117</td>\n",
       "      <td>428.065622</td>\n",
       "      <td>362.939297</td>\n",
       "      <td>41.479440</td>\n",
       "      <td>6685.730471</td>\n",
       "    </tr>\n",
       "    <tr>\n",
       "      <td>5</td>\n",
       "      <td>1995</td>\n",
       "      <td>2003.872715</td>\n",
       "      <td>1667.328361</td>\n",
       "      <td>1646.809850</td>\n",
       "      <td>618.137934</td>\n",
       "      <td>427.284274</td>\n",
       "      <td>367.158678</td>\n",
       "      <td>40.423829</td>\n",
       "      <td>6771.015640</td>\n",
       "    </tr>\n",
       "  </tbody>\n",
       "</table>\n",
       "</div>"
      ],
      "text/plain": [
       "   Year   Electricity Generation  Transportation     Industry  Agriculture  \\\n",
       "1   1991             1871.622530     1480.927212  1602.045952   589.682520   \n",
       "2   1992             1886.593971     1540.530936  1633.075916   590.570246   \n",
       "3   1993             1962.354970     1577.519112  1602.408186   618.614388   \n",
       "4   1994             1987.151999     1632.153745  1628.107251   605.833117   \n",
       "5   1995             2003.872715     1667.328361  1646.809850   618.137934   \n",
       "\n",
       "   Commercial  Residential  U.S. Territories        Total  \n",
       "1  435.610013   354.247606         39.123871  6373.259703  \n",
       "2  431.178707   360.821161         37.315650  6480.086588  \n",
       "3  424.627494   372.164956         39.085447  6596.774554  \n",
       "4  428.065622   362.939297         41.479440  6685.730471  \n",
       "5  427.284274   367.158678         40.423829  6771.015640  "
      ]
     },
     "execution_count": 81,
     "metadata": {},
     "output_type": "execute_result"
    }
   ],
   "source": [
    "df.head()"
   ]
  },
  {
   "cell_type": "code",
   "execution_count": 56,
   "metadata": {},
   "outputs": [],
   "source": [
    "analyze = df[['Year ','Electricity Generation','Transportation','Industry','Agriculture','Residential']]"
   ]
  },
  {
   "cell_type": "code",
   "execution_count": 57,
   "metadata": {},
   "outputs": [
    {
     "data": {
      "text/plain": [
       "array([ True,  True, False, False,  True, False,  True, False, False,\n",
       "        True, False, False,  True, False,  True,  True,  True,  True,\n",
       "       False,  True,  True,  True, False,  True, False,  True,  True,\n",
       "        True,  True])"
      ]
     },
     "execution_count": 57,
     "metadata": {},
     "output_type": "execute_result"
    }
   ],
   "source": [
    "val= np.random.rand(len(analyze)) < 0.5\n",
    "val"
   ]
  },
  {
   "cell_type": "code",
   "execution_count": 63,
   "metadata": {},
   "outputs": [],
   "source": [
    "training = analyze[val]\n",
    "testing = analyze[~val]"
   ]
  },
  {
   "cell_type": "code",
   "execution_count": 82,
   "metadata": {},
   "outputs": [],
   "source": [
    "regression = linear_model.LinearRegression()\n",
    "x = np.asanyarray(training[['Year ','Transportation','Industry','Agriculture','Residential']])\n",
    "y = np.asanyarray(training[['Electricity Generation']])"
   ]
  },
  {
   "cell_type": "code",
   "execution_count": 65,
   "metadata": {},
   "outputs": [
    {
     "data": {
      "text/plain": [
       "LinearRegression(copy_X=True, fit_intercept=True, n_jobs=None, normalize=False)"
      ]
     },
     "execution_count": 65,
     "metadata": {},
     "output_type": "execute_result"
    }
   ],
   "source": [
    "regression.fit(x,y)"
   ]
  },
  {
   "cell_type": "code",
   "execution_count": 66,
   "metadata": {},
   "outputs": [
    {
     "name": "stdout",
     "output_type": "stream",
     "text": [
      "Multivariate Linear Regression Coefficients:  [[-40.39578901   1.68153112  -1.73685254   3.69389151   0.5883426 ]]\n"
     ]
    }
   ],
   "source": [
    "print('Multivariate Linear Regression Coefficients: ', regression.coef_)"
   ]
  },
  {
   "cell_type": "code",
   "execution_count": 67,
   "metadata": {},
   "outputs": [],
   "source": [
    "y_diff = regression.predict(testing[['Year ','Transportation','Industry','Agriculture','Residential']])\n",
    "x = np.asanyarray(testing[['Year ','Transportation','Industry','Agriculture','Residential']])\n",
    "y = np.asanyarray(testing[['Electricity Generation',]])"
   ]
  },
  {
   "cell_type": "code",
   "execution_count": 69,
   "metadata": {},
   "outputs": [
    {
     "name": "stdout",
     "output_type": "stream",
     "text": [
      "0.5510480408456735\n"
     ]
    }
   ],
   "source": [
    "print(regression.score(x,y))"
   ]
  }
 ],
 "metadata": {
  "kernelspec": {
   "display_name": "Python 3",
   "language": "python",
   "name": "python3"
  },
  "language_info": {
   "codemirror_mode": {
    "name": "ipython",
    "version": 3
   },
   "file_extension": ".py",
   "mimetype": "text/x-python",
   "name": "python",
   "nbconvert_exporter": "python",
   "pygments_lexer": "ipython3",
   "version": "3.7.4"
  }
 },
 "nbformat": 4,
 "nbformat_minor": 2
}
